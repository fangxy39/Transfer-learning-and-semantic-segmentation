{
  "cells": [
    {
      "cell_type": "markdown",
      "id": "K2EEJyEtvwFu",
      "metadata": {
        "id": "K2EEJyEtvwFu"
      },
      "source": [
        "## import packages"
      ]
    },
    {
      "cell_type": "code",
      "execution_count": 2,
      "id": "f23a152d",
      "metadata": {
        "id": "f23a152d"
      },
      "outputs": [],
      "source": [
        "import collections\n",
        "\n",
        "import datasets\n",
        "import matplotlib.pyplot as plt\n",
        "import numpy as np\n",
        "import torch\n",
        "import torch.nn as nn\n",
        "import torch.optim as optim\n",
        "from torchtext.data import get_tokenizer\n",
        "from torchtext.vocab import build_vocab_from_iterator\n",
        "import torchtext\n",
        "import tqdm"
      ]
    },
    {
      "cell_type": "markdown",
      "id": "1IxateU5v0Ik",
      "metadata": {
        "id": "1IxateU5v0Ik"
      },
      "source": [
        "## Set random seed for reproducibility"
      ]
    },
    {
      "cell_type": "code",
      "execution_count": 3,
      "id": "c661e3c4",
      "metadata": {
        "id": "c661e3c4"
      },
      "outputs": [],
      "source": [
        "seed = 1234\n",
        "\n",
        "np.random.seed(seed) # Seed NumPy’s RNG\n",
        "torch.manual_seed(seed) # Seed PyTorch’s CPU RNG\n",
        "torch.cuda.manual_seed(seed) # Seed PyTorch’s GPU RNG\n",
        "torch.backends.cudnn.deterministic = True # Ensure cuDNN uses deterministic algorithms"
      ]
    },
    {
      "cell_type": "markdown",
      "id": "sGVjKik-zKMq",
      "metadata": {
        "id": "sGVjKik-zKMq"
      },
      "source": [
        "## Load the IMDB dataset, retrieving both the training and test splits"
      ]
    },
    {
      "cell_type": "code",
      "execution_count": null,
      "id": "638a120e",
      "metadata": {
        "id": "638a120e"
      },
      "outputs": [],
      "source": [
        "# train_data, test_data = datasets.load_dataset(\"imdb\", split=[\"train\", \"test\"])"
      ]
    },
    {
      "cell_type": "code",
      "execution_count": 4,
      "id": "739a32e4",
      "metadata": {},
      "outputs": [
        {
          "name": "stdout",
          "output_type": "stream",
          "text": [
            "Dataset({\n",
            "    features: ['text', 'label'],\n",
            "    num_rows: 25000\n",
            "})\n",
            "{'text': 'I rented I AM CURIOUS-YELLOW from my video store because of all the controversy that surrounded it when it was first released in 1967. I also heard that at first it was seized by U.S. customs if it ever tried to enter this country, therefore being a fan of films considered \"controversial\" I really had to see this for myself.<br /><br />The plot is centered around a young Swedish drama student named Lena who wants to learn everything she can about life. In particular she wants to focus her attentions to making some sort of documentary on what the average Swede thought about certain political issues such as the Vietnam War and race issues in the United States. In between asking politicians and ordinary denizens of Stockholm about their opinions on politics, she has sex with her drama teacher, classmates, and married men.<br /><br />What kills me about I AM CURIOUS-YELLOW is that 40 years ago, this was considered pornographic. Really, the sex and nudity scenes are few and far between, even then it\\'s not shot like some cheaply made porno. While my countrymen mind find it shocking, in reality sex and nudity are a major staple in Swedish cinema. Even Ingmar Bergman, arguably their answer to good old boy John Ford, had sex scenes in his films.<br /><br />I do commend the filmmakers for the fact that any sex shown in the film is shown for artistic purposes rather than just to shock people and make money to be shown in pornographic theaters in America. I AM CURIOUS-YELLOW is a good film for anyone wanting to study the meat and potatoes (no pun intended) of Swedish cinema. But really, this film doesn\\'t have much of a plot.', 'label': 0}\n"
          ]
        }
      ],
      "source": [
        "from datasets import load_from_disk\n",
        "\n",
        "train_data = load_from_disk(\"imdb_train\")\n",
        "test_data  = load_from_disk(\"imdb_test\")\n",
        "\n",
        "print(train_data)      \n",
        "print(train_data[0])  "
      ]
    },
    {
      "cell_type": "markdown",
      "id": "wNEPYT-VzQqJ",
      "metadata": {
        "id": "wNEPYT-VzQqJ"
      },
      "source": [
        "## Initialize the basic English tokenizer from torchtext"
      ]
    },
    {
      "cell_type": "code",
      "execution_count": 5,
      "id": "7b34799a",
      "metadata": {
        "id": "7b34799a"
      },
      "outputs": [],
      "source": [
        "tokenizer = get_tokenizer(\"basic_english\")"
      ]
    },
    {
      "cell_type": "markdown",
      "id": "JXBMxX-vzWRk",
      "metadata": {
        "id": "JXBMxX-vzWRk"
      },
      "source": [
        "## Define a function to tokenize a single dataset example:\n",
        " - Apply the tokenizer to the \"text\" field\n",
        " - Truncate the token list to `max_length`\n",
        " - Return a dict containing the tokens and their count"
      ]
    },
    {
      "cell_type": "code",
      "execution_count": 6,
      "id": "6fa2f2e3",
      "metadata": {
        "id": "6fa2f2e3"
      },
      "outputs": [],
      "source": [
        "def tokenize_example(example, tokenizer, max_length):\n",
        "    tokens = tokenizer(example[\"text\"])[:max_length]\n",
        "    length = len(tokens)\n",
        "    return {\"tokens\": tokens, \"length\": length}"
      ]
    },
    {
      "cell_type": "markdown",
      "id": "SiPwBWYf2cMF",
      "metadata": {
        "id": "SiPwBWYf2cMF"
      },
      "source": [
        "## Apply the tokenizer to each example in the training split and test split, passing in both the tokenizer instance and the truncation length"
      ]
    },
    {
      "cell_type": "code",
      "execution_count": 7,
      "id": "1f3a3894",
      "metadata": {
        "id": "1f3a3894"
      },
      "outputs": [],
      "source": [
        "# Define the maximum number of tokens per example\n",
        "max_length = 256\n",
        "\n",
        "train_data = train_data.map(\n",
        "    tokenize_example,\n",
        "    fn_kwargs={\"tokenizer\": tokenizer, \"max_length\": max_length}\n",
        ")\n",
        "\n",
        "test_data = test_data.map(\n",
        "    tokenize_example,\n",
        "    fn_kwargs={\"tokenizer\": tokenizer, \"max_length\": max_length}\n",
        ")"
      ]
    },
    {
      "cell_type": "markdown",
      "id": "49R5e0aV26I0",
      "metadata": {
        "id": "49R5e0aV26I0"
      },
      "source": [
        "## Split the preprocessed training data into new train and validation sets"
      ]
    },
    {
      "cell_type": "code",
      "execution_count": 8,
      "id": "7e5bd85d",
      "metadata": {
        "id": "7e5bd85d"
      },
      "outputs": [],
      "source": [
        "# Fraction of examples to reserve for validation\n",
        "test_size = 0.25\n",
        "\n",
        "train_valid_data = train_data.train_test_split(test_size=test_size)\n",
        "train_data = train_valid_data[\"train\"]\n",
        "valid_data = train_valid_data[\"test\"]"
      ]
    },
    {
      "cell_type": "markdown",
      "id": "0WFRm3S83k4y",
      "metadata": {
        "id": "0WFRm3S83k4y"
      },
      "source": [
        "## iterate over train_data[\"tokens\"], apply the frequency filter, prepend the special tokens, and assign each token a unique integer index."
      ]
    },
    {
      "cell_type": "code",
      "execution_count": 9,
      "id": "0bf984df",
      "metadata": {
        "id": "0bf984df"
      },
      "outputs": [],
      "source": [
        "min_freq = 5 # only keep tokens that appear at least 5 times.\n",
        "special_tokens = [\"<unk>\", \"<pad>\"] # <unk> for out‑of‑vocabulary tokens, <pad> for sequence padding.\n",
        "\n",
        "vocab = build_vocab_from_iterator(\n",
        "    train_data[\"tokens\"],\n",
        "    min_freq=min_freq,\n",
        "    specials=special_tokens,\n",
        ")"
      ]
    },
    {
      "cell_type": "code",
      "execution_count": 10,
      "id": "5147a8fd",
      "metadata": {
        "id": "5147a8fd"
      },
      "outputs": [],
      "source": [
        "unk_index = vocab[\"<unk>\"] # Retrieves the integer ID reserved for the “unknown” token, used to represent any out‑of‑vocabulary word.\n",
        "\n",
        "pad_index = vocab[\"<pad>\"] # Retrieves the integer ID reserved for the padding token, used to pad shorter sequences to a fixed length."
      ]
    },
    {
      "cell_type": "code",
      "execution_count": 11,
      "id": "8b97bda7",
      "metadata": {
        "id": "8b97bda7"
      },
      "outputs": [],
      "source": [
        "vocab.set_default_index(unk_index) # configures the vocabulary to return `unk_index` for any token not found, mapping all out‑of‑vocabulary words to `<unk>`."
      ]
    },
    {
      "cell_type": "markdown",
      "id": "FhU44sPz4VgL",
      "metadata": {
        "id": "FhU44sPz4VgL"
      },
      "source": [
        "## Defines a function that converts token lists into numeric ID sequences."
      ]
    },
    {
      "cell_type": "code",
      "execution_count": 12,
      "id": "843282aa",
      "metadata": {
        "id": "843282aa"
      },
      "outputs": [],
      "source": [
        "def numericalize_example(example, vocab):\n",
        "    ids = vocab.lookup_indices(example[\"tokens\"]) # Maps each token in `example[\"tokens\"]` to its corresponding integer index from the vocabulary.\n",
        "    return {\"ids\": ids} # Returns a dictionary containing the list of token IDs under the `\"ids\"` key."
      ]
    },
    {
      "cell_type": "markdown",
      "id": "44fGCSVu4cr8",
      "metadata": {
        "id": "44fGCSVu4cr8"
      },
      "source": [
        "## Apply numericalization to the training, validation and test set\n",
        "  runs the `numericalize_example` function on each example, converting its token list into a sequence of integer IDs using the vocabulary.\n",
        "\n"
      ]
    },
    {
      "cell_type": "code",
      "execution_count": 13,
      "id": "885b504a",
      "metadata": {
        "colab": {
          "base_uri": "https://localhost:8080/",
          "height": 113,
          "referenced_widgets": [
            "51e3acfe9a9e4f22bb31ba20d92c2e17",
            "07da6f1773454a79b50cd00624f8b9b3",
            "ecd5c8bbce9e44f6ab56ccc2c0fac6f6",
            "5671c500e15246f2a3106ba643bb9276",
            "0c465ac7f67e420b9de1ce7a2cf6cd77",
            "c37570b389574c9ca0dc3e73b1178995",
            "664f03b370244ecb9de108765ccb224d",
            "56cce559f223405cb045f0c3bde9e18b",
            "7701585512c5485d91ea681c5ff29f2d",
            "97157151b8f44974abff03b414ce8709",
            "619b76f2d9ff4d81a2ffcb467271fb75",
            "d0a1db803fb8494395ad790b69e53e19",
            "fff0675df4fd4efba4391269965b1cfa",
            "20618b545c5c4d5982dde35c1707cfd2",
            "ee09477534d848f5994267b693a08f8c",
            "f74f831c28d144bc86cc906e6100f410",
            "3c6c38933d174d1283953c1aa2d03e7f",
            "93b018db14a74d86a8765f329c167afb",
            "dcd6a0bce26a4450918e910ff7af3576",
            "6c7a4b950ddb45009da05f4a0d5e7962",
            "bfda630caa094faaa7ce1f40407d6512",
            "779ecf7aadb94f55b8af058ed2963f93",
            "510f7a2ba2f84da1abeb086492f372f6",
            "b29ecf3bceb94410ae52688e9b4176ca",
            "dfffa5ec1664483b99a043e1bb683f8c",
            "82bae3ba4310414b9749ceb1010569f2",
            "ed9d0cc0c4d34532809593206f768b34",
            "e632f2895f69458f9d6275cddcbda5c6",
            "c1c3e70f55c741c18b9588131aa6ce30",
            "841c8eeee6834123bf0245cd20a498f9",
            "656b34b344264858877abacc72521d0e",
            "10a75a9bb614473a923d03332be85f78",
            "dfb5fc89d7a24ac899da9e78369ca94d"
          ]
        },
        "id": "885b504a",
        "outputId": "088e86f4-5b20-4c05-e088-059a3c5ac83c"
      },
      "outputs": [
        {
          "name": "stderr",
          "output_type": "stream",
          "text": [
            "Map:   6%|▌         | 1163/18750 [00:00<00:07, 2266.57 examples/s]"
          ]
        },
        {
          "name": "stderr",
          "output_type": "stream",
          "text": [
            "Map: 100%|██████████| 18750/18750 [00:06<00:00, 3095.70 examples/s]\n",
            "Map: 100%|██████████| 6250/6250 [00:01<00:00, 3267.90 examples/s]\n",
            "Map: 100%|██████████| 25000/25000 [00:06<00:00, 3603.61 examples/s]\n"
          ]
        }
      ],
      "source": [
        "train_data = train_data.map(numericalize_example, fn_kwargs={\"vocab\": vocab})\n",
        "valid_data = valid_data.map(numericalize_example, fn_kwargs={\"vocab\": vocab})\n",
        "test_data = test_data.map(numericalize_example, fn_kwargs={\"vocab\": vocab})"
      ]
    },
    {
      "cell_type": "markdown",
      "id": "y5jPUhwr4qPL",
      "metadata": {
        "id": "y5jPUhwr4qPL"
      },
      "source": [
        "## Configure PyTorch output format:\n",
        "  use `with_format(type=\"torch\", columns=[...])` so that accessing examples yields PyTorch tensors.\n",
        "\n",
        "  * `ids`: token ID sequences\n",
        "  * `label`: ground‑truth sentiment label\n",
        "  * `length`: original token count"
      ]
    },
    {
      "cell_type": "code",
      "execution_count": 14,
      "id": "2b956558",
      "metadata": {
        "id": "2b956558"
      },
      "outputs": [],
      "source": [
        "train_data = train_data.with_format(type=\"torch\", columns=[\"ids\", \"label\", \"length\"])\n",
        "valid_data = valid_data.with_format(type=\"torch\", columns=[\"ids\", \"label\", \"length\"])\n",
        "test_data = test_data.with_format(type=\"torch\", columns=[\"ids\", \"label\", \"length\"])"
      ]
    },
    {
      "cell_type": "code",
      "execution_count": 15,
      "id": "53575424",
      "metadata": {
        "id": "53575424"
      },
      "outputs": [
        {
          "data": {
            "text/plain": [
              "{'label': tensor(1),\n",
              " 'length': tensor(135),\n",
              " 'ids': tensor([  180,     4,    14,    10,   191,   841,    34,     7,     2,   121,\n",
              "            98,   816,    50,     8,  1516,     2,   380,     7,     2,   184,\n",
              "             3,     8,   805,    14,    18,    10,     8,   805,  2246,   429,\n",
              "             3,    12,   347,    15,     2,   388,  1025,     9,    16,    76,\n",
              "             5,    64,     7, 11198,     3,     2,  9212,    17,   761,     4,\n",
              "          7812,  5460,   198,    37,     4,     6,  3653,  3683,    17,   226,\n",
              "             5, 11893,     3,    53,     7,    15,  3310,   354,     5,   689,\n",
              "             4,     0,  5471,     3,  2706,  3826,     9,    16,   246,    13,\n",
              "            14,    18,  1111,    33,    17,   126,   188,     8,    35,   597,\n",
              "           181,    19,     5,    34,  3942,  1381,    13,     2,  5370,     3,\n",
              "            32,  4228,    10,    41,  2825,     8,    37,     3,     2,  4411,\n",
              "          1141,   213,  2655,     6, 16946,  3729,   590,  4845,     8,  2416,\n",
              "             6,  1953,     3,  1159, 20751,    10,     5,  8718,     3,   149,\n",
              "            74,    14,    18,  4292,    36])}"
            ]
          },
          "execution_count": 15,
          "metadata": {},
          "output_type": "execute_result"
        }
      ],
      "source": [
        "# train_data.reset_format()\n",
        "train_data[0] "
      ]
    },
    {
      "cell_type": "markdown",
      "id": "iX8PE2DD4-pK",
      "metadata": {
        "id": "iX8PE2DD4-pK"
      },
      "source": [
        "## return a function that prepares a batch for the DataLoader.\n",
        "* **Extract `ids`**: gathers each example’s token ID tensor, then pads them to the same length using `pad_index`.\n",
        "* **Extract `length`**: collects the original (pre‑padding) sequence lengths and stacks them into a tensor.\n",
        "* **Extract `label`**: collects the sentiment labels and stacks them into a tensor.\n",
        "* **Return batch**: a dict with keys\n",
        "\n",
        "  * `ids`: padded token ID tensor of shape `(batch_size, max_seq_len)`\n",
        "  * `length`: tensor of original sequence lengths `(batch_size,)`\n",
        "  * `label`: tensor of labels `(batch_size,)`\n"
      ]
    },
    {
      "cell_type": "code",
      "execution_count": 16,
      "id": "3a5e5883",
      "metadata": {
        "id": "3a5e5883"
      },
      "outputs": [],
      "source": [
        "def get_collate_fn(pad_index):\n",
        "    def collate_fn(batch):\n",
        "        batch_ids = [i[\"ids\"] for i in batch]\n",
        "        batch_ids = nn.utils.rnn.pad_sequence(\n",
        "            batch_ids, padding_value=pad_index, batch_first=True\n",
        "        )\n",
        "        batch_length = [i[\"length\"] for i in batch]\n",
        "        batch_length = torch.stack(batch_length)\n",
        "        batch_label = [i[\"label\"] for i in batch]\n",
        "        batch_label = torch.stack(batch_label)\n",
        "        batch = {\"ids\": batch_ids, \"length\": batch_length, \"label\": batch_label}\n",
        "        return batch\n",
        "\n",
        "    return collate_fn"
      ]
    },
    {
      "cell_type": "markdown",
      "id": "GUtc5zNd5G3O",
      "metadata": {
        "id": "GUtc5zNd5G3O"
      },
      "source": [
        "## define a helper function that returns a PyTorch DataLoader configured for the tokenized dataset."
      ]
    },
    {
      "cell_type": "code",
      "execution_count": 17,
      "id": "6a2bb50a",
      "metadata": {
        "id": "6a2bb50a"
      },
      "outputs": [],
      "source": [
        "def get_data_loader(dataset, batch_size, pad_index, shuffle=False):\n",
        "    collate_fn = get_collate_fn(pad_index) # builds a collation function that pads variable‑length sequences using `pad_index`, and stacks lengths and labels.\n",
        "    data_loader = torch.utils.data.DataLoader(\n",
        "        dataset=dataset,\n",
        "        batch_size=batch_size,\n",
        "        collate_fn=collate_fn,\n",
        "        shuffle=shuffle,\n",
        "    )\n",
        "    return data_loader"
      ]
    },
    {
      "cell_type": "markdown",
      "id": "XzwPuSWY5Nkf",
      "metadata": {
        "id": "XzwPuSWY5Nkf"
      },
      "source": [
        "## define batch_size and DataLoader for the training set, validation set and the test set.\n"
      ]
    },
    {
      "cell_type": "code",
      "execution_count": 18,
      "id": "2d8f0a73",
      "metadata": {
        "id": "2d8f0a73"
      },
      "outputs": [],
      "source": [
        "batch_size = 256\n",
        "\n",
        "train_data_loader = get_data_loader(train_data, batch_size, pad_index, shuffle=True)\n",
        "valid_data_loader = get_data_loader(valid_data, batch_size, pad_index)\n",
        "test_data_loader = get_data_loader(test_data, batch_size, pad_index)"
      ]
    },
    {
      "cell_type": "markdown",
      "id": "4nbU0Tb2KhhR",
      "metadata": {
        "id": "4nbU0Tb2KhhR"
      },
      "source": [
        "## Build a LSTM model here, called LSTM, that takes in as its input a sequence of token IDs and outputs logits.\n",
        "## In this model, we use nn.Embedding to convert the token IDs into embedding vectors."
      ]
    },
    {
      "cell_type": "code",
      "execution_count": 19,
      "id": "mXZagNdT5dwg",
      "metadata": {
        "id": "mXZagNdT5dwg"
      },
      "outputs": [],
      "source": [
        "class LSTM(nn.Module):\n",
        "    def __init__(\n",
        "        self,\n",
        "        vocab_size: int,\n",
        "        embed_dim: int,\n",
        "        hidden_dim: int,\n",
        "        output_dim: int,\n",
        "        num_layers: int = 1,\n",
        "        bidirectional: bool = False,\n",
        "        dropout: float = 0.2,\n",
        "        pad_index: int = None,\n",
        "    ):\n",
        "        super().__init__()\n",
        "        self.hidden_dim = hidden_dim\n",
        "        self.num_layers = num_layers\n",
        "        self.bidirectional = bidirectional\n",
        "        self.num_directions = 2 if bidirectional else 1\n",
        "\n",
        "        # Embedding layer\n",
        "        self.embedding = nn.Embedding(vocab_size, embed_dim, padding_idx=pad_index)\n",
        "        # LSTM layer with optional bidirectionality\n",
        "        self.lstm = nn.LSTM(\n",
        "            input_size=embed_dim,\n",
        "            hidden_size=hidden_dim,\n",
        "            num_layers=num_layers,\n",
        "            bidirectional=bidirectional,\n",
        "            batch_first=True,\n",
        "            dropout=(dropout if num_layers > 1 else 0.0),\n",
        "        )\n",
        "        # Dropout for regularization\n",
        "        self.dropout = nn.Dropout(dropout)\n",
        "        # Fully connected layer mapping LSTM outputs to logits\n",
        "        self.fc = nn.Linear(hidden_dim * self.num_directions, output_dim)\n",
        "\n",
        "    def forward(self, x: torch.Tensor, lengths: torch.Tensor = None) -> torch.Tensor:\n",
        "        embedded = self.embedding(x)  # (batch, seq_len, embed_dim)\n",
        "\n",
        "        if lengths is not None:\n",
        "            packed = nn.utils.rnn.pack_padded_sequence(\n",
        "                embedded, lengths.cpu(), batch_first=True, enforce_sorted=False\n",
        "            )\n",
        "            _, (hidden, _) = self.lstm(packed)\n",
        "        else:\n",
        "            _, (hidden, _) = self.lstm(embedded)\n",
        "\n",
        "        # hidden: (num_layers * num_directions, batch, hidden_dim)\n",
        "        if self.bidirectional:\n",
        "            # last layer’s forward and backward states\n",
        "            forward_h = hidden[-2]   # (batch, hidden_dim)\n",
        "            backward_h = hidden[-1]  # (batch, hidden_dim)\n",
        "            out = torch.cat((forward_h, backward_h), dim=1)  # (batch, hidden_dim*2)\n",
        "        else:\n",
        "            out = hidden[-1]  # (batch, hidden_dim)\n",
        "\n",
        "        out = self.dropout(out)\n",
        "        logits = self.fc(out)  # (batch, output_dim)\n",
        "        return logits\n"
      ]
    },
    {
      "cell_type": "markdown",
      "id": "eeJRhGHu5zhA",
      "metadata": {
        "id": "eeJRhGHu5zhA"
      },
      "source": [
        "## Model instantiation with parameters:\n",
        "* **`vocab_size = len(vocab)`**\n",
        "  Number of unique tokens in your vocabulary, used to size the embedding matrix.\n",
        "\n",
        "* **`embedding_dim = 300`**\n",
        "  Dimensionality of each token’s embedding vector.\n",
        "\n",
        "* **`hidden_dim = 300`**\n",
        "  Size of the LSTM’s hidden state per direction.\n",
        "\n",
        "* **`output_dim = len(train_data.unique(\"label\"))`**\n",
        "  Number of target classes (e.g., 2 for binary sentiment).\n",
        "\n",
        "* **`n_layers = 2`**\n",
        "  Number of stacked LSTM layers.\n",
        "\n",
        "* **`bidirectional = True`**\n",
        "  Enables a two‑directional LSTM (forward & backward).\n",
        "\n",
        "* **`dropout_rate = 0.5`**\n",
        "  Dropout probability between LSTM layers and before the final layer.\n",
        "\n",
        "\n",
        "  Creates an LSTM classifier with embeddings, a 2‑layer bidirectional LSTM (hidden size 300), 50% dropout, and a final linear layer mapping to our output classes.\n"
      ]
    },
    {
      "cell_type": "code",
      "execution_count": 20,
      "id": "11206188",
      "metadata": {
        "id": "11206188"
      },
      "outputs": [],
      "source": [
        "vocab_size = len(vocab)\n",
        "embedding_dim = 300\n",
        "hidden_dim = 300\n",
        "output_dim = len(train_data.unique(\"label\"))\n",
        "n_layers = 2\n",
        "bidirectional = True\n",
        "dropout_rate = 0.5\n",
        "\n",
        "model = LSTM(\n",
        "    vocab_size,\n",
        "    embedding_dim,\n",
        "    hidden_dim,\n",
        "    output_dim,\n",
        "    n_layers,\n",
        "    bidirectional,\n",
        "    dropout_rate,\n",
        "    pad_index,\n",
        ")"
      ]
    },
    {
      "cell_type": "markdown",
      "id": "ukYz-Vtg6FrE",
      "metadata": {
        "id": "ukYz-Vtg6FrE"
      },
      "source": [
        "## print the total count of trainable parameters."
      ]
    },
    {
      "cell_type": "code",
      "execution_count": 21,
      "id": "5feb9512",
      "metadata": {
        "colab": {
          "base_uri": "https://localhost:8080/"
        },
        "id": "5feb9512",
        "outputId": "a2aaf2fd-e4b0-472c-b922-a0f836891c1a"
      },
      "outputs": [
        {
          "name": "stdout",
          "output_type": "stream",
          "text": [
            "The model has 10,101,302 trainable parameters\n"
          ]
        }
      ],
      "source": [
        "def count_parameters(model):\n",
        "    return sum(p.numel() for p in model.parameters() if p.requires_grad)\n",
        "\n",
        "\n",
        "print(f\"The model has {count_parameters(model):,} trainable parameters\")"
      ]
    },
    {
      "cell_type": "markdown",
      "id": "pS1DCo3q6UYv",
      "metadata": {
        "id": "pS1DCo3q6UYv"
      },
      "source": [
        "## Ensure every Linear and LSTM layer in `model` uses our custom initialization before training.\n",
        "\n",
        "* **`initialize_weights(m)`**\n",
        "\n",
        "  * For **`nn.Linear`** layers:\n",
        "\n",
        "    * **`m.weight`** initialized with Xavier normal (good for layers with symmetric activations).\n",
        "    * **`m.bias`** set to zeros.\n",
        "  * For **`nn.LSTM`** layers:\n",
        "\n",
        "    * All **bias** parameters zeroed.\n",
        "    * All **weight** parameters initialized orthogonally (helps preserve gradients over long sequences).\n",
        "\n",
        "\n",
        "\n"
      ]
    },
    {
      "cell_type": "code",
      "execution_count": 22,
      "id": "3edc8e02",
      "metadata": {
        "id": "3edc8e02"
      },
      "outputs": [],
      "source": [
        "def initialize_weights(m):\n",
        "    if isinstance(m, nn.Linear):\n",
        "        nn.init.xavier_normal_(m.weight)\n",
        "        nn.init.zeros_(m.bias)\n",
        "    elif isinstance(m, nn.LSTM):\n",
        "        for name, param in m.named_parameters():\n",
        "            if \"bias\" in name:\n",
        "                nn.init.zeros_(param)\n",
        "            elif \"weight\" in name:\n",
        "                nn.init.orthogonal_(param)"
      ]
    },
    {
      "cell_type": "code",
      "execution_count": 23,
      "id": "98490c40",
      "metadata": {
        "colab": {
          "base_uri": "https://localhost:8080/"
        },
        "id": "98490c40",
        "outputId": "b491235a-8743-4ae6-c4a6-71aae11d4f56"
      },
      "outputs": [
        {
          "data": {
            "text/plain": [
              "LSTM(\n",
              "  (embedding): Embedding(21635, 300, padding_idx=1)\n",
              "  (lstm): LSTM(300, 300, num_layers=2, batch_first=True, dropout=0.5, bidirectional=True)\n",
              "  (dropout): Dropout(p=0.5, inplace=False)\n",
              "  (fc): Linear(in_features=600, out_features=2, bias=True)\n",
              ")"
            ]
          },
          "execution_count": 23,
          "metadata": {},
          "output_type": "execute_result"
        }
      ],
      "source": [
        "model.apply(initialize_weights)"
      ]
    },
    {
      "cell_type": "markdown",
      "id": "3EZ9Kk6KDhnY",
      "metadata": {
        "id": "3EZ9Kk6KDhnY"
      },
      "source": [
        "## load the pre‑trained GloVe embeddings into a Vectors object, providing access to\n",
        "\n",
        "  * `vectors.stoi`: a mapping from token to its row index in the embedding matrix\n",
        "  * `vectors.vectors`: a `(num_tokens, 300)` tensor of embedding weights\n"
      ]
    },
    {
      "cell_type": "code",
      "execution_count": 27,
      "id": "72bfd654",
      "metadata": {
        "colab": {
          "base_uri": "https://localhost:8080/"
        },
        "id": "72bfd654",
        "outputId": "905226f4-aca4-4ba6-e28d-cf944584a6e2"
      },
      "outputs": [
        {
          "name": "stderr",
          "output_type": "stream",
          "text": [
            ".vector_cache/glove.840B.300d.zip: 2.18GB [22:07, 1.64MB/s]                                \n",
            "100%|█████████▉| 2196016/2196017 [03:02<00:00, 12029.14it/s]\n"
          ]
        }
      ],
      "source": [
        "vectors = torchtext.vocab.GloVe()"
      ]
    },
    {
      "cell_type": "code",
      "execution_count": null,
      "id": "51ac3a9e",
      "metadata": {},
      "outputs": [],
      "source": [
        "# from torchtext.vocab import GloVe\n",
        "\n",
        "# vectors = GloVe(\n",
        "#     name=\"840B\",\n",
        "#     dim=300,\n",
        "#     cache=\".vector_cache\"    \n",
        "# )"
      ]
    },
    {
      "cell_type": "code",
      "execution_count": 25,
      "id": "-EDfNHkNEgI9",
      "metadata": {
        "colab": {
          "base_uri": "https://localhost:8080/"
        },
        "id": "-EDfNHkNEgI9",
        "outputId": "674f2067-ab91-4a5a-da6b-fd12dbea4dd5"
      },
      "outputs": [
        {
          "data": {
            "text/plain": [
              "torch.Size([2196017, 300])"
            ]
          },
          "execution_count": 25,
          "metadata": {},
          "output_type": "execute_result"
        }
      ],
      "source": [
        "vectors.vectors.size()"
      ]
    },
    {
      "cell_type": "markdown",
      "id": "7bYe4A8tDsUj",
      "metadata": {
        "id": "7bYe4A8tDsUj"
      },
      "source": [
        "## looks up the GloVe vector for each token in our vocabulary, producing a `(vocab_size, embedding_dim)` tensor where row i corresponds to the embedding of token i.\n"
      ]
    },
    {
      "cell_type": "code",
      "execution_count": 26,
      "id": "6ec1ed34",
      "metadata": {
        "id": "6ec1ed34"
      },
      "outputs": [],
      "source": [
        "pretrained_embedding = vectors.get_vecs_by_tokens(vocab.get_itos())"
      ]
    },
    {
      "cell_type": "markdown",
      "id": "fxT9Ltw5D0aw",
      "metadata": {
        "id": "fxT9Ltw5D0aw"
      },
      "source": [
        "## Assign pretrained embeddings"
      ]
    },
    {
      "cell_type": "code",
      "execution_count": 27,
      "id": "7489711f",
      "metadata": {
        "id": "7489711f"
      },
      "outputs": [],
      "source": [
        "model.embedding.weight.data = pretrained_embedding"
      ]
    },
    {
      "cell_type": "markdown",
      "id": "_d1npI0BMbiz",
      "metadata": {
        "id": "_d1npI0BMbiz"
      },
      "source": [
        "## Set learning rate, adam optimizer, ce loss and gpu as device."
      ]
    },
    {
      "cell_type": "code",
      "execution_count": 28,
      "id": "e2d0b14e",
      "metadata": {
        "id": "e2d0b14e"
      },
      "outputs": [],
      "source": [
        "lr = 5e-4\n",
        "optimizer = optim.Adam(model.parameters(), lr=lr)"
      ]
    },
    {
      "cell_type": "code",
      "execution_count": 29,
      "id": "d798a6bd",
      "metadata": {
        "id": "d798a6bd"
      },
      "outputs": [],
      "source": [
        "criterion = nn.CrossEntropyLoss()"
      ]
    },
    {
      "cell_type": "code",
      "execution_count": 48,
      "id": "4a780705",
      "metadata": {
        "colab": {
          "base_uri": "https://localhost:8080/"
        },
        "id": "4a780705",
        "outputId": "325013e8-80f8-4aa0-ab0a-2e396dd4bc92"
      },
      "outputs": [
        {
          "data": {
            "text/plain": [
              "device(type='cuda')"
            ]
          },
          "execution_count": 48,
          "metadata": {},
          "output_type": "execute_result"
        }
      ],
      "source": [
        "device = torch.device(\"cuda\" if torch.cuda.is_available() else \"cpu\")\n",
        "\n",
        "device"
      ]
    },
    {
      "cell_type": "code",
      "execution_count": 49,
      "id": "5c8302f0",
      "metadata": {
        "id": "5c8302f0"
      },
      "outputs": [],
      "source": [
        "model = model.to(device)\n",
        "criterion = criterion.to(device)"
      ]
    },
    {
      "cell_type": "markdown",
      "id": "1VAANBKyMmP7",
      "metadata": {
        "id": "1VAANBKyMmP7"
      },
      "source": [
        "## define training and evaluating process."
      ]
    },
    {
      "cell_type": "code",
      "execution_count": 33,
      "id": "8a1e9b07",
      "metadata": {
        "id": "8a1e9b07"
      },
      "outputs": [],
      "source": [
        "import torch\n",
        "import numpy as np\n",
        "import tqdm\n",
        "\n",
        "def train(dataloader, model, criterion, optimizer, device):\n",
        "    model.train()\n",
        "    torch.set_grad_enabled(True)        # ensure tracking is on\n",
        "    # turn on anomaly detection for backward()\n",
        "    torch.autograd.set_detect_anomaly(True)\n",
        "\n",
        "    epoch_losses = []\n",
        "    epoch_accs   = []\n",
        "\n",
        "    for batch in tqdm.tqdm(dataloader, desc=\"training...\"):\n",
        "        # move inputs to device\n",
        "        ids    = batch[\"ids\"].to(device)\n",
        "        lengths= batch[\"length\"].to(device)\n",
        "        labels = batch[\"label\"].to(device)\n",
        "\n",
        "        # forward + loss\n",
        "        predictions = model(ids, lengths)\n",
        "        loss        = criterion(predictions, labels)\n",
        "        acc         = get_accuracy(predictions, labels)\n",
        "\n",
        "        # backward + step\n",
        "        optimizer.zero_grad()\n",
        "        loss.backward()\n",
        "        optimizer.step()\n",
        "\n",
        "        # record metrics\n",
        "        epoch_losses.append(loss.item())\n",
        "        epoch_accs.append(acc.item())\n",
        "\n",
        "    return np.mean(epoch_losses), np.mean(epoch_accs)\n"
      ]
    },
    {
      "cell_type": "code",
      "execution_count": 35,
      "id": "c7988786",
      "metadata": {
        "id": "c7988786"
      },
      "outputs": [],
      "source": [
        "def evaluate(dataloader, model, criterion, device):\n",
        "    model.eval()\n",
        "    epoch_losses = []\n",
        "    epoch_accs = []\n",
        "    with torch.no_grad():\n",
        "        for batch in tqdm.tqdm(dataloader, desc=\"evaluating...\"):\n",
        "            ids = batch[\"ids\"].to(device)\n",
        "            length = batch[\"length\"]\n",
        "            label = batch[\"label\"].to(device)\n",
        "            prediction = model(ids, length)\n",
        "            loss = criterion(prediction, label)\n",
        "            accuracy = get_accuracy(prediction, label)\n",
        "            epoch_losses.append(loss.item())\n",
        "            epoch_accs.append(accuracy.item())\n",
        "    return np.mean(epoch_losses), np.mean(epoch_accs)"
      ]
    },
    {
      "cell_type": "code",
      "execution_count": 36,
      "id": "d66535bd",
      "metadata": {
        "id": "d66535bd"
      },
      "outputs": [],
      "source": [
        "def get_accuracy(prediction, label):\n",
        "    batch_size, _ = prediction.shape\n",
        "    predicted_classes = prediction.argmax(dim=-1)\n",
        "    correct_predictions = predicted_classes.eq(label).sum()\n",
        "    accuracy = correct_predictions / batch_size\n",
        "    return accuracy"
      ]
    },
    {
      "cell_type": "markdown",
      "id": "OwaDZTb8MwRI",
      "metadata": {
        "id": "OwaDZTb8MwRI"
      },
      "source": [
        "## train the model"
      ]
    },
    {
      "cell_type": "code",
      "execution_count": 37,
      "id": "24c05b57",
      "metadata": {
        "colab": {
          "base_uri": "https://localhost:8080/",
          "height": 1000
        },
        "id": "24c05b57",
        "outputId": "60e2b822-1141-438f-cc30-d0c72e494fb6"
      },
      "outputs": [
        {
          "name": "stderr",
          "output_type": "stream",
          "text": [
            "training...: 100%|██████████| 74/74 [00:05<00:00, 12.36it/s]\n",
            "evaluating...: 100%|██████████| 25/25 [00:00<00:00, 43.22it/s]\n"
          ]
        },
        {
          "name": "stdout",
          "output_type": "stream",
          "text": [
            "epoch: 0\n",
            "train_loss: 0.562, train_acc: 0.689\n",
            "valid_loss: 0.478, valid_acc: 0.787\n"
          ]
        },
        {
          "name": "stderr",
          "output_type": "stream",
          "text": [
            "training...: 100%|██████████| 74/74 [00:05<00:00, 14.10it/s]\n",
            "evaluating...: 100%|██████████| 25/25 [00:00<00:00, 41.24it/s]\n"
          ]
        },
        {
          "name": "stdout",
          "output_type": "stream",
          "text": [
            "epoch: 1\n",
            "train_loss: 0.459, train_acc: 0.791\n",
            "valid_loss: 0.401, valid_acc: 0.824\n"
          ]
        },
        {
          "name": "stderr",
          "output_type": "stream",
          "text": [
            "training...: 100%|██████████| 74/74 [00:05<00:00, 13.84it/s]\n",
            "evaluating...: 100%|██████████| 25/25 [00:00<00:00, 40.59it/s]\n"
          ]
        },
        {
          "name": "stdout",
          "output_type": "stream",
          "text": [
            "epoch: 2\n",
            "train_loss: 0.390, train_acc: 0.825\n",
            "valid_loss: 0.800, valid_acc: 0.530\n"
          ]
        },
        {
          "name": "stderr",
          "output_type": "stream",
          "text": [
            "training...: 100%|██████████| 74/74 [00:05<00:00, 13.81it/s]\n",
            "evaluating...: 100%|██████████| 25/25 [00:00<00:00, 40.07it/s]\n"
          ]
        },
        {
          "name": "stdout",
          "output_type": "stream",
          "text": [
            "epoch: 3\n",
            "train_loss: 0.477, train_acc: 0.779\n",
            "valid_loss: 0.433, valid_acc: 0.797\n"
          ]
        },
        {
          "name": "stderr",
          "output_type": "stream",
          "text": [
            "training...: 100%|██████████| 74/74 [00:05<00:00, 14.10it/s]\n",
            "evaluating...: 100%|██████████| 25/25 [00:00<00:00, 42.23it/s]\n"
          ]
        },
        {
          "name": "stdout",
          "output_type": "stream",
          "text": [
            "epoch: 4\n",
            "train_loss: 0.438, train_acc: 0.804\n",
            "valid_loss: 0.509, valid_acc: 0.734\n"
          ]
        },
        {
          "name": "stderr",
          "output_type": "stream",
          "text": [
            "training...: 100%|██████████| 74/74 [00:05<00:00, 13.98it/s]\n",
            "evaluating...: 100%|██████████| 25/25 [00:00<00:00, 42.20it/s]\n"
          ]
        },
        {
          "name": "stdout",
          "output_type": "stream",
          "text": [
            "epoch: 5\n",
            "train_loss: 0.440, train_acc: 0.795\n",
            "valid_loss: 0.414, valid_acc: 0.812\n"
          ]
        },
        {
          "name": "stderr",
          "output_type": "stream",
          "text": [
            "training...: 100%|██████████| 74/74 [00:05<00:00, 13.82it/s]\n",
            "evaluating...: 100%|██████████| 25/25 [00:00<00:00, 40.43it/s]\n"
          ]
        },
        {
          "name": "stdout",
          "output_type": "stream",
          "text": [
            "epoch: 6\n",
            "train_loss: 0.348, train_acc: 0.848\n",
            "valid_loss: 0.345, valid_acc: 0.851\n"
          ]
        },
        {
          "name": "stderr",
          "output_type": "stream",
          "text": [
            "training...: 100%|██████████| 74/74 [00:05<00:00, 14.52it/s]\n",
            "evaluating...: 100%|██████████| 25/25 [00:00<00:00, 40.46it/s]\n"
          ]
        },
        {
          "name": "stdout",
          "output_type": "stream",
          "text": [
            "epoch: 7\n",
            "train_loss: 0.282, train_acc: 0.882\n",
            "valid_loss: 0.329, valid_acc: 0.859\n"
          ]
        },
        {
          "name": "stderr",
          "output_type": "stream",
          "text": [
            "training...: 100%|██████████| 74/74 [00:05<00:00, 13.95it/s]\n",
            "evaluating...: 100%|██████████| 25/25 [00:00<00:00, 39.78it/s]\n"
          ]
        },
        {
          "name": "stdout",
          "output_type": "stream",
          "text": [
            "epoch: 8\n",
            "train_loss: 0.235, train_acc: 0.907\n",
            "valid_loss: 0.325, valid_acc: 0.860\n"
          ]
        },
        {
          "name": "stderr",
          "output_type": "stream",
          "text": [
            "training...: 100%|██████████| 74/74 [00:05<00:00, 14.18it/s]\n",
            "evaluating...: 100%|██████████| 25/25 [00:00<00:00, 39.84it/s]"
          ]
        },
        {
          "name": "stdout",
          "output_type": "stream",
          "text": [
            "epoch: 9\n",
            "train_loss: 0.203, train_acc: 0.924\n",
            "valid_loss: 0.336, valid_acc: 0.882\n"
          ]
        },
        {
          "name": "stderr",
          "output_type": "stream",
          "text": [
            "\n"
          ]
        }
      ],
      "source": [
        "torch.autograd.set_detect_anomaly(True)\n",
        "\n",
        "n_epochs = 10\n",
        "best_valid_loss = float(\"inf\")\n",
        "\n",
        "metrics = collections.defaultdict(list)\n",
        "\n",
        "for epoch in range(n_epochs):\n",
        "    train_loss, train_acc = train(\n",
        "        train_data_loader, model, criterion, optimizer, device\n",
        "    )\n",
        "    valid_loss, valid_acc = evaluate(valid_data_loader, model, criterion, device)\n",
        "    metrics[\"train_losses\"].append(train_loss)\n",
        "    metrics[\"train_accs\"].append(train_acc)\n",
        "    metrics[\"valid_losses\"].append(valid_loss)\n",
        "    metrics[\"valid_accs\"].append(valid_acc)\n",
        "    if valid_loss < best_valid_loss:\n",
        "        best_valid_loss = valid_loss\n",
        "        torch.save(model.state_dict(), \"lstm.pt\")\n",
        "    print(f\"epoch: {epoch}\")\n",
        "    print(f\"train_loss: {train_loss:.3f}, train_acc: {train_acc:.3f}\")\n",
        "    print(f\"valid_loss: {valid_loss:.3f}, valid_acc: {valid_acc:.3f}\")"
      ]
    },
    {
      "cell_type": "markdown",
      "id": "1jjg_-FdMzv_",
      "metadata": {
        "id": "1jjg_-FdMzv_"
      },
      "source": [
        "## visualize training and validation losses and accuracies"
      ]
    },
    {
      "cell_type": "code",
      "execution_count": 39,
      "id": "b360d0cd",
      "metadata": {
        "id": "b360d0cd"
      },
      "outputs": [
        {
          "data": {
            "image/png": "[encoded data removed]",
            "text/plain": [
              "<Figure size 1000x600 with 1 Axes>"
            ]
          },
          "metadata": {},
          "output_type": "display_data"
        }
      ],
      "source": [
        "fig = plt.figure(figsize=(10, 6))\n",
        "ax = fig.add_subplot(1, 1, 1)\n",
        "ax.plot(metrics[\"train_losses\"], label=\"train loss\")\n",
        "ax.plot(metrics[\"valid_losses\"], label=\"valid loss\")\n",
        "ax.set_xlabel(\"epoch\")\n",
        "ax.set_ylabel(\"loss\")\n",
        "ax.set_xticks(range(n_epochs))\n",
        "ax.legend()\n",
        "ax.grid()"
      ]
    },
    {
      "cell_type": "code",
      "execution_count": 40,
      "id": "742a6855",
      "metadata": {
        "id": "742a6855"
      },
      "outputs": [
        {
          "data": {
            "image/png": "[encoded data removed]",
            "text/plain": [
              "<Figure size 1000x600 with 1 Axes>"
            ]
          },
          "metadata": {},
          "output_type": "display_data"
        }
      ],
      "source": [
        "fig = plt.figure(figsize=(10, 6))\n",
        "ax = fig.add_subplot(1, 1, 1)\n",
        "ax.plot(metrics[\"train_accs\"], label=\"train accuracy\")\n",
        "ax.plot(metrics[\"valid_accs\"], label=\"valid accuracy\")\n",
        "ax.set_xlabel(\"epoch\")\n",
        "ax.set_ylabel(\"loss\")\n",
        "ax.set_xticks(range(n_epochs))\n",
        "ax.legend()\n",
        "ax.grid()"
      ]
    },
    {
      "cell_type": "markdown",
      "id": "KrGLhkATNEG7",
      "metadata": {
        "id": "KrGLhkATNEG7"
      },
      "source": [
        "## Load the saved model parameters from the file `lstm.pt` into our model, restoring the best‑saved weights. Then run the evaluate function on the test DataLoader using the loaded model and loss criterion, returning the test set’s average loss and accuracy.\n"
      ]
    },
    {
      "cell_type": "code",
      "execution_count": 50,
      "id": "8b89f53f",
      "metadata": {
        "id": "8b89f53f"
      },
      "outputs": [
        {
          "name": "stderr",
          "output_type": "stream",
          "text": [
            "evaluating...:  76%|███████▌  | 74/98 [00:01<00:00, 38.85it/s]"
          ]
        },
        {
          "name": "stderr",
          "output_type": "stream",
          "text": [
            "evaluating...: 100%|██████████| 98/98 [00:02<00:00, 40.69it/s]\n"
          ]
        }
      ],
      "source": [
        "model.load_state_dict(torch.load(\"lstm.pt\"))\n",
        "\n",
        "test_loss, test_acc = evaluate(test_data_loader, model, criterion, device)"
      ]
    },
    {
      "cell_type": "code",
      "execution_count": 51,
      "id": "10bc7bc3",
      "metadata": {
        "id": "10bc7bc3"
      },
      "outputs": [
        {
          "name": "stdout",
          "output_type": "stream",
          "text": [
            "test_loss: 0.357, test_acc: 0.850\n"
          ]
        }
      ],
      "source": [
        "print(f\"test_loss: {test_loss:.3f}, test_acc: {test_acc:.3f}\")"
      ]
    },
    {
      "cell_type": "markdown",
      "id": "R17QQ-EHNZVG",
      "metadata": {
        "id": "R17QQ-EHNZVG"
      },
      "source": [
        "## Evaluate the model performance.\n",
        " First define a function that takes raw text, applies the tokenizer to split it into words, and uses the vocabulary to convert those words into a sequence of integer IDs. It then constructs a batch‑of‑one tensor (including its length) and feeds it through the LSTM model to produce raw logits. After applying softmax to turn logits into probabilities, it selects the class with the highest probability and returns both that predicted label and its confidence score.\n",
        "\n",
        " Then test the result with different sentences.\n",
        "\n",
        "\n"
      ]
    },
    {
      "cell_type": "code",
      "execution_count": 52,
      "id": "c07df383",
      "metadata": {
        "id": "c07df383"
      },
      "outputs": [],
      "source": [
        "def predict_sentiment(text, model, tokenizer, vocab, device):\n",
        "    tokens = tokenizer(text)\n",
        "    ids = vocab.lookup_indices(tokens)\n",
        "    length = torch.LongTensor([len(ids)])\n",
        "    tensor = torch.LongTensor(ids).unsqueeze(dim=0).to(device)\n",
        "    prediction = model(tensor, length).squeeze(dim=0)\n",
        "    probability = torch.softmax(prediction, dim=-1)\n",
        "    predicted_class = prediction.argmax(dim=-1).item()\n",
        "    predicted_probability = probability[predicted_class].item()\n",
        "    return predicted_class, predicted_probability"
      ]
    },
    {
      "cell_type": "code",
      "execution_count": 53,
      "id": "8d9d591d",
      "metadata": {
        "id": "8d9d591d"
      },
      "outputs": [
        {
          "data": {
            "text/plain": [
              "(0, 0.9956081509590149)"
            ]
          },
          "execution_count": 53,
          "metadata": {},
          "output_type": "execute_result"
        }
      ],
      "source": [
        "text = \"This film is terrible!\"\n",
        "\n",
        "predict_sentiment(text, model, tokenizer, vocab, device)"
      ]
    },
    {
      "cell_type": "code",
      "execution_count": 54,
      "id": "f392b05a",
      "metadata": {
        "id": "f392b05a"
      },
      "outputs": [
        {
          "data": {
            "text/plain": [
              "(1, 0.9614872336387634)"
            ]
          },
          "execution_count": 54,
          "metadata": {},
          "output_type": "execute_result"
        }
      ],
      "source": [
        "text = \"This film is great!\"\n",
        "\n",
        "predict_sentiment(text, model, tokenizer, vocab, device)"
      ]
    },
    {
      "cell_type": "code",
      "execution_count": 55,
      "id": "3196951d",
      "metadata": {
        "id": "3196951d"
      },
      "outputs": [
        {
          "data": {
            "text/plain": [
              "(0, 0.7539320588111877)"
            ]
          },
          "execution_count": 55,
          "metadata": {},
          "output_type": "execute_result"
        }
      ],
      "source": [
        "text = \"This film is not terrible, it's great!\"\n",
        "\n",
        "predict_sentiment(text, model, tokenizer, vocab, device)"
      ]
    },
    {
      "cell_type": "code",
      "execution_count": 56,
      "id": "c35aeb03",
      "metadata": {
        "id": "c35aeb03"
      },
      "outputs": [
        {
          "data": {
            "text/plain": [
              "(0, 0.8792877197265625)"
            ]
          },
          "execution_count": 56,
          "metadata": {},
          "output_type": "execute_result"
        }
      ],
      "source": [
        "text = \"This film is not great, it's terrible!\"\n",
        "\n",
        "predict_sentiment(text, model, tokenizer, vocab, device)"
      ]
    }
  ],
  "metadata": {
    "accelerator": "GPU",
    "colab": {
      "gpuType": "T4",
      "provenance": []
    },
    "kernelspec": {
      "display_name": "codingass4",
      "language": "python",
      "name": "python3"
    },
    "language_info": {
      "codemirror_mode": {
        "name": "ipython",
        "version": 3
      },
      "file_extension": ".py",
      "mimetype": "text/x-python",
      "name": "python",
      "nbconvert_exporter": "python",
      "pygments_lexer": "ipython3",
      "version": "3.11.12"
    },
    "widgets": {
      "application/vnd.jupyter.widget-state+json": {
        "07da6f1773454a79b50cd00624f8b9b3": {
          "model_module": "@jupyter-widgets/controls",
          "model_module_version": "1.5.0",
          "model_name": "HTMLModel",
          "state": {
            "_dom_classes": [],
            "_model_module": "@jupyter-widgets/controls",
            "_model_module_version": "1.5.0",
            "_model_name": "HTMLModel",
            "_view_count": null,
            "_view_module": "@jupyter-widgets/controls",
            "_view_module_version": "1.5.0",
            "_view_name": "HTMLView",
            "description": "",
            "description_tooltip": null,
            "layout": "IPY_MODEL_c37570b389574c9ca0dc3e73b1178995",
            "placeholder": "​",
            "style": "IPY_MODEL_664f03b370244ecb9de108765ccb224d",
            "value": "Map: 100%"
          }
        },
        "0c465ac7f67e420b9de1ce7a2cf6cd77": {
          "model_module": "@jupyter-widgets/base",
          "model_module_version": "1.2.0",
          "model_name": "LayoutModel",
          "state": {
            "_model_module": "@jupyter-widgets/base",
            "_model_module_version": "1.2.0",
            "_model_name": "LayoutModel",
            "_view_count": null,
            "_view_module": "@jupyter-widgets/base",
            "_view_module_version": "1.2.0",
            "_view_name": "LayoutView",
            "align_content": null,
            "align_items": null,
            "align_self": null,
            "border": null,
            "bottom": null,
            "display": null,
            "flex": null,
            "flex_flow": null,
            "grid_area": null,
            "grid_auto_columns": null,
            "grid_auto_flow": null,
            "grid_auto_rows": null,
            "grid_column": null,
            "grid_gap": null,
            "grid_row": null,
            "grid_template_areas": null,
            "grid_template_columns": null,
            "grid_template_rows": null,
            "height": null,
            "justify_content": null,
            "justify_items": null,
            "left": null,
            "margin": null,
            "max_height": null,
            "max_width": null,
            "min_height": null,
            "min_width": null,
            "object_fit": null,
            "object_position": null,
            "order": null,
            "overflow": null,
            "overflow_x": null,
            "overflow_y": null,
            "padding": null,
            "right": null,
            "top": null,
            "visibility": null,
            "width": null
          }
        },
        "10a75a9bb614473a923d03332be85f78": {
          "model_module": "@jupyter-widgets/base",
          "model_module_version": "1.2.0",
          "model_name": "LayoutModel",
          "state": {
            "_model_module": "@jupyter-widgets/base",
            "_model_module_version": "1.2.0",
            "_model_name": "LayoutModel",
            "_view_count": null,
            "_view_module": "@jupyter-widgets/base",
            "_view_module_version": "1.2.0",
            "_view_name": "LayoutView",
            "align_content": null,
            "align_items": null,
            "align_self": null,
            "border": null,
            "bottom": null,
            "display": null,
            "flex": null,
            "flex_flow": null,
            "grid_area": null,
            "grid_auto_columns": null,
            "grid_auto_flow": null,
            "grid_auto_rows": null,
            "grid_column": null,
            "grid_gap": null,
            "grid_row": null,
            "grid_template_areas": null,
            "grid_template_columns": null,
            "grid_template_rows": null,
            "height": null,
            "justify_content": null,
            "justify_items": null,
            "left": null,
            "margin": null,
            "max_height": null,
            "max_width": null,
            "min_height": null,
            "min_width": null,
            "object_fit": null,
            "object_position": null,
            "order": null,
            "overflow": null,
            "overflow_x": null,
            "overflow_y": null,
            "padding": null,
            "right": null,
            "top": null,
            "visibility": null,
            "width": null
          }
        },
        "20618b545c5c4d5982dde35c1707cfd2": {
          "model_module": "@jupyter-widgets/controls",
          "model_module_version": "1.5.0",
          "model_name": "FloatProgressModel",
          "state": {
            "_dom_classes": [],
            "_model_module": "@jupyter-widgets/controls",
            "_model_module_version": "1.5.0",
            "_model_name": "FloatProgressModel",
            "_view_count": null,
            "_view_module": "@jupyter-widgets/controls",
            "_view_module_version": "1.5.0",
            "_view_name": "ProgressView",
            "bar_style": "success",
            "description": "",
            "description_tooltip": null,
            "layout": "IPY_MODEL_dcd6a0bce26a4450918e910ff7af3576",
            "max": 6250,
            "min": 0,
            "orientation": "horizontal",
            "style": "IPY_MODEL_6c7a4b950ddb45009da05f4a0d5e7962",
            "value": 6250
          }
        },
        "3c6c38933d174d1283953c1aa2d03e7f": {
          "model_module": "@jupyter-widgets/base",
          "model_module_version": "1.2.0",
          "model_name": "LayoutModel",
          "state": {
            "_model_module": "@jupyter-widgets/base",
            "_model_module_version": "1.2.0",
            "_model_name": "LayoutModel",
            "_view_count": null,
            "_view_module": "@jupyter-widgets/base",
            "_view_module_version": "1.2.0",
            "_view_name": "LayoutView",
            "align_content": null,
            "align_items": null,
            "align_self": null,
            "border": null,
            "bottom": null,
            "display": null,
            "flex": null,
            "flex_flow": null,
            "grid_area": null,
            "grid_auto_columns": null,
            "grid_auto_flow": null,
            "grid_auto_rows": null,
            "grid_column": null,
            "grid_gap": null,
            "grid_row": null,
            "grid_template_areas": null,
            "grid_template_columns": null,
            "grid_template_rows": null,
            "height": null,
            "justify_content": null,
            "justify_items": null,
            "left": null,
            "margin": null,
            "max_height": null,
            "max_width": null,
            "min_height": null,
            "min_width": null,
            "object_fit": null,
            "object_position": null,
            "order": null,
            "overflow": null,
            "overflow_x": null,
            "overflow_y": null,
            "padding": null,
            "right": null,
            "top": null,
            "visibility": null,
            "width": null
          }
        },
        "510f7a2ba2f84da1abeb086492f372f6": {
          "model_module": "@jupyter-widgets/controls",
          "model_module_version": "1.5.0",
          "model_name": "HBoxModel",
          "state": {
            "_dom_classes": [],
            "_model_module": "@jupyter-widgets/controls",
            "_model_module_version": "1.5.0",
            "_model_name": "HBoxModel",
            "_view_count": null,
            "_view_module": "@jupyter-widgets/controls",
            "_view_module_version": "1.5.0",
            "_view_name": "HBoxView",
            "box_style": "",
            "children": [
              "IPY_MODEL_b29ecf3bceb94410ae52688e9b4176ca",
              "IPY_MODEL_dfffa5ec1664483b99a043e1bb683f8c",
              "IPY_MODEL_82bae3ba4310414b9749ceb1010569f2"
            ],
            "layout": "IPY_MODEL_ed9d0cc0c4d34532809593206f768b34"
          }
        },
        "51e3acfe9a9e4f22bb31ba20d92c2e17": {
          "model_module": "@jupyter-widgets/controls",
          "model_module_version": "1.5.0",
          "model_name": "HBoxModel",
          "state": {
            "_dom_classes": [],
            "_model_module": "@jupyter-widgets/controls",
            "_model_module_version": "1.5.0",
            "_model_name": "HBoxModel",
            "_view_count": null,
            "_view_module": "@jupyter-widgets/controls",
            "_view_module_version": "1.5.0",
            "_view_name": "HBoxView",
            "box_style": "",
            "children": [
              "IPY_MODEL_07da6f1773454a79b50cd00624f8b9b3",
              "IPY_MODEL_ecd5c8bbce9e44f6ab56ccc2c0fac6f6",
              "IPY_MODEL_5671c500e15246f2a3106ba643bb9276"
            ],
            "layout": "IPY_MODEL_0c465ac7f67e420b9de1ce7a2cf6cd77"
          }
        },
        "5671c500e15246f2a3106ba643bb9276": {
          "model_module": "@jupyter-widgets/controls",
          "model_module_version": "1.5.0",
          "model_name": "HTMLModel",
          "state": {
            "_dom_classes": [],
            "_model_module": "@jupyter-widgets/controls",
            "_model_module_version": "1.5.0",
            "_model_name": "HTMLModel",
            "_view_count": null,
            "_view_module": "@jupyter-widgets/controls",
            "_view_module_version": "1.5.0",
            "_view_name": "HTMLView",
            "description": "",
            "description_tooltip": null,
            "layout": "IPY_MODEL_97157151b8f44974abff03b414ce8709",
            "placeholder": "​",
            "style": "IPY_MODEL_619b76f2d9ff4d81a2ffcb467271fb75",
            "value": " 18750/18750 [00:08&lt;00:00, 2437.44 examples/s]"
          }
        },
        "56cce559f223405cb045f0c3bde9e18b": {
          "model_module": "@jupyter-widgets/base",
          "model_module_version": "1.2.0",
          "model_name": "LayoutModel",
          "state": {
            "_model_module": "@jupyter-widgets/base",
            "_model_module_version": "1.2.0",
            "_model_name": "LayoutModel",
            "_view_count": null,
            "_view_module": "@jupyter-widgets/base",
            "_view_module_version": "1.2.0",
            "_view_name": "LayoutView",
            "align_content": null,
            "align_items": null,
            "align_self": null,
            "border": null,
            "bottom": null,
            "display": null,
            "flex": null,
            "flex_flow": null,
            "grid_area": null,
            "grid_auto_columns": null,
            "grid_auto_flow": null,
            "grid_auto_rows": null,
            "grid_column": null,
            "grid_gap": null,
            "grid_row": null,
            "grid_template_areas": null,
            "grid_template_columns": null,
            "grid_template_rows": null,
            "height": null,
            "justify_content": null,
            "justify_items": null,
            "left": null,
            "margin": null,
            "max_height": null,
            "max_width": null,
            "min_height": null,
            "min_width": null,
            "object_fit": null,
            "object_position": null,
            "order": null,
            "overflow": null,
            "overflow_x": null,
            "overflow_y": null,
            "padding": null,
            "right": null,
            "top": null,
            "visibility": null,
            "width": null
          }
        },
        "619b76f2d9ff4d81a2ffcb467271fb75": {
          "model_module": "@jupyter-widgets/controls",
          "model_module_version": "1.5.0",
          "model_name": "DescriptionStyleModel",
          "state": {
            "_model_module": "@jupyter-widgets/controls",
            "_model_module_version": "1.5.0",
            "_model_name": "DescriptionStyleModel",
            "_view_count": null,
            "_view_module": "@jupyter-widgets/base",
            "_view_module_version": "1.2.0",
            "_view_name": "StyleView",
            "description_width": ""
          }
        },
        "656b34b344264858877abacc72521d0e": {
          "model_module": "@jupyter-widgets/controls",
          "model_module_version": "1.5.0",
          "model_name": "ProgressStyleModel",
          "state": {
            "_model_module": "@jupyter-widgets/controls",
            "_model_module_version": "1.5.0",
            "_model_name": "ProgressStyleModel",
            "_view_count": null,
            "_view_module": "@jupyter-widgets/base",
            "_view_module_version": "1.2.0",
            "_view_name": "StyleView",
            "bar_color": null,
            "description_width": ""
          }
        },
        "664f03b370244ecb9de108765ccb224d": {
          "model_module": "@jupyter-widgets/controls",
          "model_module_version": "1.5.0",
          "model_name": "DescriptionStyleModel",
          "state": {
            "_model_module": "@jupyter-widgets/controls",
            "_model_module_version": "1.5.0",
            "_model_name": "DescriptionStyleModel",
            "_view_count": null,
            "_view_module": "@jupyter-widgets/base",
            "_view_module_version": "1.2.0",
            "_view_name": "StyleView",
            "description_width": ""
          }
        },
        "6c7a4b950ddb45009da05f4a0d5e7962": {
          "model_module": "@jupyter-widgets/controls",
          "model_module_version": "1.5.0",
          "model_name": "ProgressStyleModel",
          "state": {
            "_model_module": "@jupyter-widgets/controls",
            "_model_module_version": "1.5.0",
            "_model_name": "ProgressStyleModel",
            "_view_count": null,
            "_view_module": "@jupyter-widgets/base",
            "_view_module_version": "1.2.0",
            "_view_name": "StyleView",
            "bar_color": null,
            "description_width": ""
          }
        },
        "7701585512c5485d91ea681c5ff29f2d": {
          "model_module": "@jupyter-widgets/controls",
          "model_module_version": "1.5.0",
          "model_name": "ProgressStyleModel",
          "state": {
            "_model_module": "@jupyter-widgets/controls",
            "_model_module_version": "1.5.0",
            "_model_name": "ProgressStyleModel",
            "_view_count": null,
            "_view_module": "@jupyter-widgets/base",
            "_view_module_version": "1.2.0",
            "_view_name": "StyleView",
            "bar_color": null,
            "description_width": ""
          }
        },
        "779ecf7aadb94f55b8af058ed2963f93": {
          "model_module": "@jupyter-widgets/controls",
          "model_module_version": "1.5.0",
          "model_name": "DescriptionStyleModel",
          "state": {
            "_model_module": "@jupyter-widgets/controls",
            "_model_module_version": "1.5.0",
            "_model_name": "DescriptionStyleModel",
            "_view_count": null,
            "_view_module": "@jupyter-widgets/base",
            "_view_module_version": "1.2.0",
            "_view_name": "StyleView",
            "description_width": ""
          }
        },
        "82bae3ba4310414b9749ceb1010569f2": {
          "model_module": "@jupyter-widgets/controls",
          "model_module_version": "1.5.0",
          "model_name": "HTMLModel",
          "state": {
            "_dom_classes": [],
            "_model_module": "@jupyter-widgets/controls",
            "_model_module_version": "1.5.0",
            "_model_name": "HTMLModel",
            "_view_count": null,
            "_view_module": "@jupyter-widgets/controls",
            "_view_module_version": "1.5.0",
            "_view_name": "HTMLView",
            "description": "",
            "description_tooltip": null,
            "layout": "IPY_MODEL_10a75a9bb614473a923d03332be85f78",
            "placeholder": "​",
            "style": "IPY_MODEL_dfb5fc89d7a24ac899da9e78369ca94d",
            "value": " 25000/25000 [00:09&lt;00:00, 2902.59 examples/s]"
          }
        },
        "841c8eeee6834123bf0245cd20a498f9": {
          "model_module": "@jupyter-widgets/base",
          "model_module_version": "1.2.0",
          "model_name": "LayoutModel",
          "state": {
            "_model_module": "@jupyter-widgets/base",
            "_model_module_version": "1.2.0",
            "_model_name": "LayoutModel",
            "_view_count": null,
            "_view_module": "@jupyter-widgets/base",
            "_view_module_version": "1.2.0",
            "_view_name": "LayoutView",
            "align_content": null,
            "align_items": null,
            "align_self": null,
            "border": null,
            "bottom": null,
            "display": null,
            "flex": null,
            "flex_flow": null,
            "grid_area": null,
            "grid_auto_columns": null,
            "grid_auto_flow": null,
            "grid_auto_rows": null,
            "grid_column": null,
            "grid_gap": null,
            "grid_row": null,
            "grid_template_areas": null,
            "grid_template_columns": null,
            "grid_template_rows": null,
            "height": null,
            "justify_content": null,
            "justify_items": null,
            "left": null,
            "margin": null,
            "max_height": null,
            "max_width": null,
            "min_height": null,
            "min_width": null,
            "object_fit": null,
            "object_position": null,
            "order": null,
            "overflow": null,
            "overflow_x": null,
            "overflow_y": null,
            "padding": null,
            "right": null,
            "top": null,
            "visibility": null,
            "width": null
          }
        },
        "93b018db14a74d86a8765f329c167afb": {
          "model_module": "@jupyter-widgets/controls",
          "model_module_version": "1.5.0",
          "model_name": "DescriptionStyleModel",
          "state": {
            "_model_module": "@jupyter-widgets/controls",
            "_model_module_version": "1.5.0",
            "_model_name": "DescriptionStyleModel",
            "_view_count": null,
            "_view_module": "@jupyter-widgets/base",
            "_view_module_version": "1.2.0",
            "_view_name": "StyleView",
            "description_width": ""
          }
        },
        "97157151b8f44974abff03b414ce8709": {
          "model_module": "@jupyter-widgets/base",
          "model_module_version": "1.2.0",
          "model_name": "LayoutModel",
          "state": {
            "_model_module": "@jupyter-widgets/base",
            "_model_module_version": "1.2.0",
            "_model_name": "LayoutModel",
            "_view_count": null,
            "_view_module": "@jupyter-widgets/base",
            "_view_module_version": "1.2.0",
            "_view_name": "LayoutView",
            "align_content": null,
            "align_items": null,
            "align_self": null,
            "border": null,
            "bottom": null,
            "display": null,
            "flex": null,
            "flex_flow": null,
            "grid_area": null,
            "grid_auto_columns": null,
            "grid_auto_flow": null,
            "grid_auto_rows": null,
            "grid_column": null,
            "grid_gap": null,
            "grid_row": null,
            "grid_template_areas": null,
            "grid_template_columns": null,
            "grid_template_rows": null,
            "height": null,
            "justify_content": null,
            "justify_items": null,
            "left": null,
            "margin": null,
            "max_height": null,
            "max_width": null,
            "min_height": null,
            "min_width": null,
            "object_fit": null,
            "object_position": null,
            "order": null,
            "overflow": null,
            "overflow_x": null,
            "overflow_y": null,
            "padding": null,
            "right": null,
            "top": null,
            "visibility": null,
            "width": null
          }
        },
        "b29ecf3bceb94410ae52688e9b4176ca": {
          "model_module": "@jupyter-widgets/controls",
          "model_module_version": "1.5.0",
          "model_name": "HTMLModel",
          "state": {
            "_dom_classes": [],
            "_model_module": "@jupyter-widgets/controls",
            "_model_module_version": "1.5.0",
            "_model_name": "HTMLModel",
            "_view_count": null,
            "_view_module": "@jupyter-widgets/controls",
            "_view_module_version": "1.5.0",
            "_view_name": "HTMLView",
            "description": "",
            "description_tooltip": null,
            "layout": "IPY_MODEL_e632f2895f69458f9d6275cddcbda5c6",
            "placeholder": "​",
            "style": "IPY_MODEL_c1c3e70f55c741c18b9588131aa6ce30",
            "value": "Map: 100%"
          }
        },
        "bfda630caa094faaa7ce1f40407d6512": {
          "model_module": "@jupyter-widgets/base",
          "model_module_version": "1.2.0",
          "model_name": "LayoutModel",
          "state": {
            "_model_module": "@jupyter-widgets/base",
            "_model_module_version": "1.2.0",
            "_model_name": "LayoutModel",
            "_view_count": null,
            "_view_module": "@jupyter-widgets/base",
            "_view_module_version": "1.2.0",
            "_view_name": "LayoutView",
            "align_content": null,
            "align_items": null,
            "align_self": null,
            "border": null,
            "bottom": null,
            "display": null,
            "flex": null,
            "flex_flow": null,
            "grid_area": null,
            "grid_auto_columns": null,
            "grid_auto_flow": null,
            "grid_auto_rows": null,
            "grid_column": null,
            "grid_gap": null,
            "grid_row": null,
            "grid_template_areas": null,
            "grid_template_columns": null,
            "grid_template_rows": null,
            "height": null,
            "justify_content": null,
            "justify_items": null,
            "left": null,
            "margin": null,
            "max_height": null,
            "max_width": null,
            "min_height": null,
            "min_width": null,
            "object_fit": null,
            "object_position": null,
            "order": null,
            "overflow": null,
            "overflow_x": null,
            "overflow_y": null,
            "padding": null,
            "right": null,
            "top": null,
            "visibility": null,
            "width": null
          }
        },
        "c1c3e70f55c741c18b9588131aa6ce30": {
          "model_module": "@jupyter-widgets/controls",
          "model_module_version": "1.5.0",
          "model_name": "DescriptionStyleModel",
          "state": {
            "_model_module": "@jupyter-widgets/controls",
            "_model_module_version": "1.5.0",
            "_model_name": "DescriptionStyleModel",
            "_view_count": null,
            "_view_module": "@jupyter-widgets/base",
            "_view_module_version": "1.2.0",
            "_view_name": "StyleView",
            "description_width": ""
          }
        },
        "c37570b389574c9ca0dc3e73b1178995": {
          "model_module": "@jupyter-widgets/base",
          "model_module_version": "1.2.0",
          "model_name": "LayoutModel",
          "state": {
            "_model_module": "@jupyter-widgets/base",
            "_model_module_version": "1.2.0",
            "_model_name": "LayoutModel",
            "_view_count": null,
            "_view_module": "@jupyter-widgets/base",
            "_view_module_version": "1.2.0",
            "_view_name": "LayoutView",
            "align_content": null,
            "align_items": null,
            "align_self": null,
            "border": null,
            "bottom": null,
            "display": null,
            "flex": null,
            "flex_flow": null,
            "grid_area": null,
            "grid_auto_columns": null,
            "grid_auto_flow": null,
            "grid_auto_rows": null,
            "grid_column": null,
            "grid_gap": null,
            "grid_row": null,
            "grid_template_areas": null,
            "grid_template_columns": null,
            "grid_template_rows": null,
            "height": null,
            "justify_content": null,
            "justify_items": null,
            "left": null,
            "margin": null,
            "max_height": null,
            "max_width": null,
            "min_height": null,
            "min_width": null,
            "object_fit": null,
            "object_position": null,
            "order": null,
            "overflow": null,
            "overflow_x": null,
            "overflow_y": null,
            "padding": null,
            "right": null,
            "top": null,
            "visibility": null,
            "width": null
          }
        },
        "d0a1db803fb8494395ad790b69e53e19": {
          "model_module": "@jupyter-widgets/controls",
          "model_module_version": "1.5.0",
          "model_name": "HBoxModel",
          "state": {
            "_dom_classes": [],
            "_model_module": "@jupyter-widgets/controls",
            "_model_module_version": "1.5.0",
            "_model_name": "HBoxModel",
            "_view_count": null,
            "_view_module": "@jupyter-widgets/controls",
            "_view_module_version": "1.5.0",
            "_view_name": "HBoxView",
            "box_style": "",
            "children": [
              "IPY_MODEL_fff0675df4fd4efba4391269965b1cfa",
              "IPY_MODEL_20618b545c5c4d5982dde35c1707cfd2",
              "IPY_MODEL_ee09477534d848f5994267b693a08f8c"
            ],
            "layout": "IPY_MODEL_f74f831c28d144bc86cc906e6100f410"
          }
        },
        "dcd6a0bce26a4450918e910ff7af3576": {
          "model_module": "@jupyter-widgets/base",
          "model_module_version": "1.2.0",
          "model_name": "LayoutModel",
          "state": {
            "_model_module": "@jupyter-widgets/base",
            "_model_module_version": "1.2.0",
            "_model_name": "LayoutModel",
            "_view_count": null,
            "_view_module": "@jupyter-widgets/base",
            "_view_module_version": "1.2.0",
            "_view_name": "LayoutView",
            "align_content": null,
            "align_items": null,
            "align_self": null,
            "border": null,
            "bottom": null,
            "display": null,
            "flex": null,
            "flex_flow": null,
            "grid_area": null,
            "grid_auto_columns": null,
            "grid_auto_flow": null,
            "grid_auto_rows": null,
            "grid_column": null,
            "grid_gap": null,
            "grid_row": null,
            "grid_template_areas": null,
            "grid_template_columns": null,
            "grid_template_rows": null,
            "height": null,
            "justify_content": null,
            "justify_items": null,
            "left": null,
            "margin": null,
            "max_height": null,
            "max_width": null,
            "min_height": null,
            "min_width": null,
            "object_fit": null,
            "object_position": null,
            "order": null,
            "overflow": null,
            "overflow_x": null,
            "overflow_y": null,
            "padding": null,
            "right": null,
            "top": null,
            "visibility": null,
            "width": null
          }
        },
        "dfb5fc89d7a24ac899da9e78369ca94d": {
          "model_module": "@jupyter-widgets/controls",
          "model_module_version": "1.5.0",
          "model_name": "DescriptionStyleModel",
          "state": {
            "_model_module": "@jupyter-widgets/controls",
            "_model_module_version": "1.5.0",
            "_model_name": "DescriptionStyleModel",
            "_view_count": null,
            "_view_module": "@jupyter-widgets/base",
            "_view_module_version": "1.2.0",
            "_view_name": "StyleView",
            "description_width": ""
          }
        },
        "dfffa5ec1664483b99a043e1bb683f8c": {
          "model_module": "@jupyter-widgets/controls",
          "model_module_version": "1.5.0",
          "model_name": "FloatProgressModel",
          "state": {
            "_dom_classes": [],
            "_model_module": "@jupyter-widgets/controls",
            "_model_module_version": "1.5.0",
            "_model_name": "FloatProgressModel",
            "_view_count": null,
            "_view_module": "@jupyter-widgets/controls",
            "_view_module_version": "1.5.0",
            "_view_name": "ProgressView",
            "bar_style": "success",
            "description": "",
            "description_tooltip": null,
            "layout": "IPY_MODEL_841c8eeee6834123bf0245cd20a498f9",
            "max": 25000,
            "min": 0,
            "orientation": "horizontal",
            "style": "IPY_MODEL_656b34b344264858877abacc72521d0e",
            "value": 25000
          }
        },
        "e632f2895f69458f9d6275cddcbda5c6": {
          "model_module": "@jupyter-widgets/base",
          "model_module_version": "1.2.0",
          "model_name": "LayoutModel",
          "state": {
            "_model_module": "@jupyter-widgets/base",
            "_model_module_version": "1.2.0",
            "_model_name": "LayoutModel",
            "_view_count": null,
            "_view_module": "@jupyter-widgets/base",
            "_view_module_version": "1.2.0",
            "_view_name": "LayoutView",
            "align_content": null,
            "align_items": null,
            "align_self": null,
            "border": null,
            "bottom": null,
            "display": null,
            "flex": null,
            "flex_flow": null,
            "grid_area": null,
            "grid_auto_columns": null,
            "grid_auto_flow": null,
            "grid_auto_rows": null,
            "grid_column": null,
            "grid_gap": null,
            "grid_row": null,
            "grid_template_areas": null,
            "grid_template_columns": null,
            "grid_template_rows": null,
            "height": null,
            "justify_content": null,
            "justify_items": null,
            "left": null,
            "margin": null,
            "max_height": null,
            "max_width": null,
            "min_height": null,
            "min_width": null,
            "object_fit": null,
            "object_position": null,
            "order": null,
            "overflow": null,
            "overflow_x": null,
            "overflow_y": null,
            "padding": null,
            "right": null,
            "top": null,
            "visibility": null,
            "width": null
          }
        },
        "ecd5c8bbce9e44f6ab56ccc2c0fac6f6": {
          "model_module": "@jupyter-widgets/controls",
          "model_module_version": "1.5.0",
          "model_name": "FloatProgressModel",
          "state": {
            "_dom_classes": [],
            "_model_module": "@jupyter-widgets/controls",
            "_model_module_version": "1.5.0",
            "_model_name": "FloatProgressModel",
            "_view_count": null,
            "_view_module": "@jupyter-widgets/controls",
            "_view_module_version": "1.5.0",
            "_view_name": "ProgressView",
            "bar_style": "success",
            "description": "",
            "description_tooltip": null,
            "layout": "IPY_MODEL_56cce559f223405cb045f0c3bde9e18b",
            "max": 18750,
            "min": 0,
            "orientation": "horizontal",
            "style": "IPY_MODEL_7701585512c5485d91ea681c5ff29f2d",
            "value": 18750
          }
        },
        "ed9d0cc0c4d34532809593206f768b34": {
          "model_module": "@jupyter-widgets/base",
          "model_module_version": "1.2.0",
          "model_name": "LayoutModel",
          "state": {
            "_model_module": "@jupyter-widgets/base",
            "_model_module_version": "1.2.0",
            "_model_name": "LayoutModel",
            "_view_count": null,
            "_view_module": "@jupyter-widgets/base",
            "_view_module_version": "1.2.0",
            "_view_name": "LayoutView",
            "align_content": null,
            "align_items": null,
            "align_self": null,
            "border": null,
            "bottom": null,
            "display": null,
            "flex": null,
            "flex_flow": null,
            "grid_area": null,
            "grid_auto_columns": null,
            "grid_auto_flow": null,
            "grid_auto_rows": null,
            "grid_column": null,
            "grid_gap": null,
            "grid_row": null,
            "grid_template_areas": null,
            "grid_template_columns": null,
            "grid_template_rows": null,
            "height": null,
            "justify_content": null,
            "justify_items": null,
            "left": null,
            "margin": null,
            "max_height": null,
            "max_width": null,
            "min_height": null,
            "min_width": null,
            "object_fit": null,
            "object_position": null,
            "order": null,
            "overflow": null,
            "overflow_x": null,
            "overflow_y": null,
            "padding": null,
            "right": null,
            "top": null,
            "visibility": null,
            "width": null
          }
        },
        "ee09477534d848f5994267b693a08f8c": {
          "model_module": "@jupyter-widgets/controls",
          "model_module_version": "1.5.0",
          "model_name": "HTMLModel",
          "state": {
            "_dom_classes": [],
            "_model_module": "@jupyter-widgets/controls",
            "_model_module_version": "1.5.0",
            "_model_name": "HTMLModel",
            "_view_count": null,
            "_view_module": "@jupyter-widgets/controls",
            "_view_module_version": "1.5.0",
            "_view_name": "HTMLView",
            "description": "",
            "description_tooltip": null,
            "layout": "IPY_MODEL_bfda630caa094faaa7ce1f40407d6512",
            "placeholder": "​",
            "style": "IPY_MODEL_779ecf7aadb94f55b8af058ed2963f93",
            "value": " 6250/6250 [00:03&lt;00:00, 1437.49 examples/s]"
          }
        },
        "f74f831c28d144bc86cc906e6100f410": {
          "model_module": "@jupyter-widgets/base",
          "model_module_version": "1.2.0",
          "model_name": "LayoutModel",
          "state": {
            "_model_module": "@jupyter-widgets/base",
            "_model_module_version": "1.2.0",
            "_model_name": "LayoutModel",
            "_view_count": null,
            "_view_module": "@jupyter-widgets/base",
            "_view_module_version": "1.2.0",
            "_view_name": "LayoutView",
            "align_content": null,
            "align_items": null,
            "align_self": null,
            "border": null,
            "bottom": null,
            "display": null,
            "flex": null,
            "flex_flow": null,
            "grid_area": null,
            "grid_auto_columns": null,
            "grid_auto_flow": null,
            "grid_auto_rows": null,
            "grid_column": null,
            "grid_gap": null,
            "grid_row": null,
            "grid_template_areas": null,
            "grid_template_columns": null,
            "grid_template_rows": null,
            "height": null,
            "justify_content": null,
            "justify_items": null,
            "left": null,
            "margin": null,
            "max_height": null,
            "max_width": null,
            "min_height": null,
            "min_width": null,
            "object_fit": null,
            "object_position": null,
            "order": null,
            "overflow": null,
            "overflow_x": null,
            "overflow_y": null,
            "padding": null,
            "right": null,
            "top": null,
            "visibility": null,
            "width": null
          }
        },
        "fff0675df4fd4efba4391269965b1cfa": {
          "model_module": "@jupyter-widgets/controls",
          "model_module_version": "1.5.0",
          "model_name": "HTMLModel",
          "state": {
            "_dom_classes": [],
            "_model_module": "@jupyter-widgets/controls",
            "_model_module_version": "1.5.0",
            "_model_name": "HTMLModel",
            "_view_count": null,
            "_view_module": "@jupyter-widgets/controls",
            "_view_module_version": "1.5.0",
            "_view_name": "HTMLView",
            "description": "",
            "description_tooltip": null,
            "layout": "IPY_MODEL_3c6c38933d174d1283953c1aa2d03e7f",
            "placeholder": "​",
            "style": "IPY_MODEL_93b018db14a74d86a8765f329c167afb",
            "value": "Map: 100%"
          }
        }
      }
    }
  },
  "nbformat": 4,
  "nbformat_minor": 5
}
